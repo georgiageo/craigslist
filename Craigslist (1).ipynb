{
 "cells": [
  {
   "cell_type": "code",
   "execution_count": null,
   "id": "5be69662-7179-4acb-b8df-8011adc432b5",
   "metadata": {},
   "outputs": [],
   "source": [
    "pip install craigslistscraper"
   ]
  },
  {
   "cell_type": "code",
   "execution_count": null,
   "id": "311017d3-7d03-4db7-9cf9-67aa00ae0596",
   "metadata": {},
   "outputs": [],
   "source": [
    "# import necessary libraries\n",
    "import craigslistscraper as cs\n",
    "import json\n",
    "import pandas as pd\n",
    "import time\n"
   ]
  },
  {
   "cell_type": "code",
   "execution_count": null,
   "id": "f872a7e2-9aaf-4285-9a3e-24d82530a130",
   "metadata": {},
   "outputs": [],
   "source": [
    "# Define the search.\n",
    "search = cs.Search(\n",
    "    query = \"nvidia | amd\",\n",
    "    city = \"atlanta\",\n",
    "    category = \"syp\"\n",
    ")"
   ]
  },
  {
   "cell_type": "code",
   "execution_count": null,
   "id": "eb6e95cf-3a62-4a7e-b30d-f16d70aa4c7f",
   "metadata": {},
   "outputs": [],
   "source": [
    "#Setting up some variables to name our final Excel file. Feel free to adjust these.\n",
    "\n",
    "base_path = r'C:\\Users\\TCF GIS\\Documents\\craigslistads'\n",
    "TodaysDate = time.strftime(\"%b-%d-%Y-%H-%M-%S\")\n",
    "\n",
    "df.to_excel(base_path + \"\\\\\" + TodaysDate +\".xlsx\", index=False)"
   ]
  },
  {
   "cell_type": "code",
   "execution_count": null,
   "id": "294df891-6df6-46a3-9c86-761d8d4a64f9",
   "metadata": {},
   "outputs": [],
   "source": [
    "# Create an empty pandas dataframe. We'll dump our data in here later.\n",
    "df = pd.DataFrame()"
   ]
  },
  {
   "cell_type": "code",
   "execution_count": null,
   "id": "eee03df9-4350-4706-b76e-4fce843140aa",
   "metadata": {
    "scrolled": true
   },
   "outputs": [],
   "source": [
    "# Fetch the html from the server. The status will let you know if the website is down, or other problems. \n",
    "status = search.fetch()\n",
    "if status != 200:\n",
    "    raise Exception(f\"Unable to fetch search with status <{status}>.\")\n"
   ]
  },
  {
   "cell_type": "code",
   "execution_count": null,
   "id": "14cf5522-9357-41aa-98c9-63a07a416ae0",
   "metadata": {},
   "outputs": [],
   "source": [
    "# We'll loop through the ads and add them to the pandas dataframe one by one.\n",
    "for ad in search.ads:\n",
    "    # Fetch additional information about each ad. Check the status again.\n",
    "    status = ad.fetch()\n",
    "    if status != 200:\n",
    "        print(f\"Unable to fetch ad '{ad.title}' with status <{status}>.\")\n",
    "        continue\n",
    "\n",
    "    # There is a to_dict() method for convenience. \n",
    "    data = ad.to_dict()\n",
    "    \n",
    "    # json.dumps is merely for pretty printing. \n",
    "    print(json.dumps(data, indent = 4))\n",
    "\n",
    "    # This is where the ads finally get added to the dataframe.\n",
    "    df = pd.concat([df, pd.DataFrame([data])], ignore_index=True)"
   ]
  },
  {
   "cell_type": "code",
   "execution_count": null,
   "id": "9c799a3f-2074-43b1-9343-ade3e593ce06",
   "metadata": {},
   "outputs": [],
   "source": [
    "# Converting the dataframe to an Excel file and saving it to your specified folder.\n",
    "# Warning: this will overwrite your file each time you run this.\n",
    "# \n",
    "df.to_excel(base_path + \"\\\\\" + TodaysDate +\".xlsx\", index=False)"
   ]
  },
  {
   "cell_type": "code",
   "execution_count": null,
   "id": "54b4ca46-db0d-496a-823f-93f17b1f702d",
   "metadata": {
    "scrolled": true
   },
   "outputs": [],
   "source": [
    "print(df)"
   ]
  }
 ],
 "metadata": {
  "kernelspec": {
   "display_name": "Python 3 (ipykernel)",
   "language": "python",
   "name": "python3"
  },
  "language_info": {
   "codemirror_mode": {
    "name": "ipython",
    "version": 3
   },
   "file_extension": ".py",
   "mimetype": "text/x-python",
   "name": "python",
   "nbconvert_exporter": "python",
   "pygments_lexer": "ipython3",
   "version": "3.12.4"
  }
 },
 "nbformat": 4,
 "nbformat_minor": 5
}
